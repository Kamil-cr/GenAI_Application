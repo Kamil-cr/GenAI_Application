{
 "cells": [
  {
   "cell_type": "code",
   "execution_count": 4,
   "metadata": {},
   "outputs": [],
   "source": [
    "from openai import OpenAI\n",
    "from dotenv import load_dotenv, find_dotenv\n",
    "_: bool = load_dotenv(find_dotenv(\"D:\\GenAI_Application\\class1\\.env\"))\n",
    "client: OpenAI = OpenAI()"
   ]
  },
  {
   "cell_type": "markdown",
   "metadata": {},
   "source": [
    "# Step 1: Create an Assistant"
   ]
  },
  {
   "cell_type": "code",
   "execution_count": 2,
   "metadata": {},
   "outputs": [],
   "source": [
    "from openai.types.beta import Assistant\n",
    "\n",
    "assisstant: Assistant = client.beta.assistants.create(\n",
    "    name=\"Math Tutor\",\n",
    "    description=\"You are a personal Math Tutor. You can help students with their math homework and answer questions about math.\",\n",
    "    model=\"gpt-3.5-turbo-1106\",\n",
    "    tools=[{\"type\": \"code_interpreter\"}]\n",
    ")"
   ]
  },
  {
   "cell_type": "markdown",
   "metadata": {},
   "source": [
    "# Step 2: Create a Thread"
   ]
  },
  {
   "cell_type": "code",
   "execution_count": 24,
   "metadata": {},
   "outputs": [],
   "source": [
    "from openai.types.beta.thread import Thread\n",
    "\n",
    "thread: Thread = client.beta.threads.create() "
   ]
  },
  {
   "cell_type": "markdown",
   "metadata": {},
   "source": [
    "# Step 3: Add a message to the thread"
   ]
  },
  {
   "cell_type": "code",
   "execution_count": 25,
   "metadata": {},
   "outputs": [],
   "source": [
    "from openai.types.beta.threads.thread_message import ThreadMessage\n",
    "\n",
    "messages: ThreadMessage = client.beta.threads.messages.create(\n",
    "    thread_id=thread.id,\n",
    "    role=\"user\",\n",
    "    content=\"What is the square root of 16?\",\n",
    ")"
   ]
  },
  {
   "cell_type": "markdown",
   "metadata": {},
   "source": [
    "# Step 4: Run the Assistant"
   ]
  },
  {
   "cell_type": "code",
   "execution_count": 26,
   "metadata": {},
   "outputs": [],
   "source": [
    "from openai.types.beta.threads.run import Run\n",
    "\n",
    "run: Run = client.beta.threads.runs.create(\n",
    "    assistant_id=assisstant.id,\n",
    "    thread_id=thread.id,\n",
    "    instructions=\"Answer the user's question about the square root of 16.\",\n",
    ")"
   ]
  },
  {
   "cell_type": "markdown",
   "metadata": {},
   "source": [
    "# Step 5: Check the run status"
   ]
  },
  {
   "cell_type": "code",
   "execution_count": 27,
   "metadata": {},
   "outputs": [
    {
     "name": "stdout",
     "output_type": "stream",
     "text": [
      "Run(id='run_kokY6Vw4eHigVAtrFAVUN5h4', assistant_id='asst_9eaSadqbEFrOADcOy8NAhfFj', cancelled_at=None, completed_at=None, created_at=1707493151, expires_at=1707493751, failed_at=None, file_ids=[], instructions=\"Answer the user's question about the square root of 16.\", last_error=None, metadata={}, model='gpt-3.5-turbo-1106', object='thread.run', required_action=None, started_at=1707493151, status='in_progress', thread_id='thread_UiHx2fKAijBsWuQaKNgNz2Lv', tools=[ToolAssistantToolsCode(type='code_interpreter')], usage=None)\n"
     ]
    }
   ],
   "source": [
    "run: Run = client.beta.threads.runs.retrieve(\n",
    "    thread_id=thread.id,\n",
    "    run_id=run.id,\n",
    ")\n",
    "\n",
    "print(run)"
   ]
  },
  {
   "cell_type": "markdown",
   "metadata": {},
   "source": [
    "# Step 6: Display the Assistant's Response"
   ]
  },
  {
   "cell_type": "code",
   "execution_count": 28,
   "metadata": {},
   "outputs": [],
   "source": [
    "from openai.pagination import SyncCursorPage\n",
    "\n",
    "messages: SyncCursorPage[ThreadMessage] = client.beta.threads.messages.list(\n",
    "    thread_id=thread.id\n",
    "    )"
   ]
  },
  {
   "cell_type": "code",
   "execution_count": 30,
   "metadata": {},
   "outputs": [
    {
     "name": "stdout",
     "output_type": "stream",
     "text": [
      "user: What is the square root of 16?\n",
      "assistant: The square root of 16 is 4.\n"
     ]
    }
   ],
   "source": [
    "for m in reversed(messages.data):\n",
    "    print(f\"{m.role}: {m.content[0].text.value}\")"
   ]
  },
  {
   "cell_type": "markdown",
   "metadata": {},
   "source": [
    "# Assistant API - Knowledge Retrieval"
   ]
  },
  {
   "cell_type": "code",
   "execution_count": 38,
   "metadata": {},
   "outputs": [],
   "source": [
    "file = client.files.create(\n",
    "  file=open(\"Server.html\", \"rb\"),\n",
    "  purpose='assistants'\n",
    ")\n",
    "\n",
    "assisstant: Assistant = client.beta.assistants.create(\n",
    "    name=\"NextJS Developer\",\n",
    "    description=\"You are a Professional NextJS Developer. You can help users with their NextJS projects and answer questions about NextJS.\",\n",
    "    model=\"gpt-3.5-turbo-1106\",\n",
    "    tools=[{\"type\": \"retrieval\"}],\n",
    "    file_ids=[file.id]\n",
    ")"
   ]
  },
  {
   "cell_type": "code",
   "execution_count": 48,
   "metadata": {},
   "outputs": [],
   "source": [
    "thread: Thread = client.beta.threads.create(\n",
    "  messages=[\n",
    "    {\n",
    "      \"role\": \"user\",\n",
    "      \"content\": \"How are Server Components Rendered in NextJS?\",\n",
    "      \"file_ids\": [file.id]\n",
    "    }\n",
    "  ]\n",
    ")"
   ]
  },
  {
   "cell_type": "code",
   "execution_count": 49,
   "metadata": {},
   "outputs": [],
   "source": [
    "run: Run = client.beta.threads.runs.create(\n",
    "    assistant_id=assisstant.id,\n",
    "    thread_id=thread.id,\n",
    "    instructions=\"Answer the user's question about the Server Components in NextJS.\",\n",
    ")"
   ]
  },
  {
   "cell_type": "code",
   "execution_count": 50,
   "metadata": {},
   "outputs": [],
   "source": [
    "run_steps = client.beta.threads.runs.steps.list(\n",
    "  thread_id=thread.id,\n",
    "  run_id=run.id\n",
    ")"
   ]
  },
  {
   "cell_type": "code",
   "execution_count": 51,
   "metadata": {},
   "outputs": [
    {
     "name": "stdout",
     "output_type": "stream",
     "text": [
      "user: How are Server Components Rendered in NextJS?\n",
      "assistant: I'll start by reviewing the file you uploaded to understand how server components are rendered in NextJS. Please give me a moment to analyze the file.\n",
      "assistant: I wasn't able to find specific information about how server components are rendered in NextJS in the file you uploaded. It seems to be an HTML file with some JavaScript and CSS references, but it doesn't provide the detailed explanation you're looking for.\n",
      "\n",
      "For comprehensive information about how server components are rendered in NextJS, I recommend referring to the official NextJS documentation or specific tutorials and guides on the topic. If you have any specific questions or details you'd like me to look for, please let me know so I can assist you further.\n"
     ]
    }
   ],
   "source": [
    "messages: SyncCursorPage[ThreadMessage] = client.beta.threads.messages.list(\n",
    "    thread_id=thread.id\n",
    "    )\n",
    "\n",
    "for m in reversed(messages.data):\n",
    "    print(f\"{m.role}: {m.content[0].text.value}\")"
   ]
  },
  {
   "cell_type": "markdown",
   "metadata": {},
   "source": [
    "# Assistant API - Function Calling"
   ]
  },
  {
   "cell_type": "code",
   "execution_count": 30,
   "metadata": {},
   "outputs": [],
   "source": [
    "import json\n",
    "\n",
    "def show_json(message, obj):\n",
    "    display(message, json.loads(obj.model_dump_json()))"
   ]
  },
  {
   "cell_type": "code",
   "execution_count": 76,
   "metadata": {},
   "outputs": [],
   "source": [
    "import json\n",
    "def getCurrentWeather(location: str, unit: str = \"fareheit\") -> str | object | None:\n",
    "    \"\"\"Get the current weather for a location.\"\"\"\n",
    "    if \"japan\" in location.lower():\n",
    "        return json.dumps({\"location\":\"Japan\", \"temperature\": 10, \"unit\": \"Celsius\"})\n",
    "    elif \"new york\" in location.lower():\n",
    "        return json.dumps({\"location\":\"New York\", \"temperature\": 50, \"unit\": \"Fahrenheit\"})\n",
    "    elif \"berlin\" in location.lower():\n",
    "        return json.dumps({\"location\":\"Berlin\", \"temperature\": 5, \"unit\": \"Celsius\"})\n",
    "    else:\n",
    "        return json.dumps({\"location\": location, \"temperature\": None})\n",
    "    \n",
    "def getNickname(location: str) -> str:\n",
    "    \"\"\"Get the nickname of a city.\"\"\"\n",
    "    if \"berlin\" in location.lower():\n",
    "        return \"br\"\n",
    "    elif \"new york\" in location.lower():\n",
    "        return \"nyc\"\n",
    "    elif \"japan\" in location.lower():\n",
    "        return \"jp\"\n",
    "    else:\n",
    "        return location"
   ]
  },
  {
   "cell_type": "code",
   "execution_count": 98,
   "metadata": {},
   "outputs": [],
   "source": [
    "from openai.types.beta import Assistant\n",
    "\n",
    "assisstant: Assistant = client.beta.assistants.create(\n",
    "    name=\"Weather Bot\",\n",
    "    instructions=\"You are a weather bot. Use the provided functions to answer questions.\",\n",
    "    model=\"gpt-3.5-turbo-1106\",\n",
    "    tools=[{\n",
    "        \"type\": \"function\",\n",
    "        \"function\" : {\n",
    "            \"name\": \"getCurrentWeather\",\n",
    "            \"description\": \"Get the weather in location.\",\n",
    "            \"parameters\": {\n",
    "                \"type\": \"object\",\n",
    "                \"properties\": {\n",
    "                    \"location\": {\"type\": \"string\", \"description\": \"The city and state e.g. Berlin, Germany\"},\n",
    "                    \"unit\": {\"type\": \"string\", \"enum\": ['c', 'f']}\n",
    "                },\n",
    "                \"required\": [\"location\"],\n",
    "            },\n",
    "        }\n",
    "    },{\n",
    "        \"type\": \"function\",\n",
    "        \"function\" : {\n",
    "            \"name\": \"getNickname\",\n",
    "            \"description\": \"Get the nickname of a city.\",\n",
    "            \"parameters\": {\n",
    "                \"type\": \"object\",\n",
    "                \"properties\": {\n",
    "                    \"location\": {\"type\": \"string\", \"description\": \"The city and state e.g. Berlin, Germany\"}\n",
    "                },\n",
    "                \"required\": [\"location\"],\n",
    "            }, \n",
    "        },\n",
    "    }]\n",
    ")"
   ]
  },
  {
   "cell_type": "code",
   "execution_count": 99,
   "metadata": {},
   "outputs": [
    {
     "name": "stdout",
     "output_type": "stream",
     "text": [
      "Thread(id='thread_6olYje20MuELYMhg1CtoaSrQ', created_at=1707583451, metadata={}, object='thread')\n"
     ]
    }
   ],
   "source": [
    "thread = client.beta.threads.create()\n",
    "\n",
    "print(thread)"
   ]
  },
  {
   "cell_type": "code",
   "execution_count": 100,
   "metadata": {},
   "outputs": [],
   "source": [
    "message = client.beta.threads.messages.create(\n",
    "    thread_id=thread.id,\n",
    "    role=\"user\",\n",
    "    content=\"How is the current weather in japan?\",\n",
    ")"
   ]
  },
  {
   "cell_type": "code",
   "execution_count": 101,
   "metadata": {},
   "outputs": [
    {
     "data": {
      "text/plain": [
       "{'id': 'msg_ccDSOM1o8YRjkWqFt8aDW0wd',\n",
       " 'assistant_id': None,\n",
       " 'content': [MessageContentText(text=Text(annotations=[], value='How is the current weather in japan?'), type='text')],\n",
       " 'created_at': 1707583453,\n",
       " 'file_ids': [],\n",
       " 'metadata': {},\n",
       " 'object': 'thread.message',\n",
       " 'role': 'user',\n",
       " 'run_id': None,\n",
       " 'thread_id': 'thread_6olYje20MuELYMhg1CtoaSrQ'}"
      ]
     },
     "execution_count": 101,
     "metadata": {},
     "output_type": "execute_result"
    }
   ],
   "source": [
    "dict(message)"
   ]
  },
  {
   "cell_type": "code",
   "execution_count": 102,
   "metadata": {},
   "outputs": [],
   "source": [
    "run = client.beta.threads.runs.create(\n",
    "    assistant_id=assisstant.id,\n",
    "    thread_id=thread.id,\n",
    ")"
   ]
  },
  {
   "cell_type": "code",
   "execution_count": 103,
   "metadata": {},
   "outputs": [
    {
     "data": {
      "text/plain": [
       "{'id': 'run_OwzqoC2PJkxG6JBIH9fTdbmE',\n",
       " 'assistant_id': 'asst_hJjpZPMRgyPfH3oYJPNwwnsz',\n",
       " 'cancelled_at': None,\n",
       " 'completed_at': None,\n",
       " 'created_at': 1707583456,\n",
       " 'expires_at': 1707584056,\n",
       " 'failed_at': None,\n",
       " 'file_ids': [],\n",
       " 'instructions': 'You are a weather bot. Use the provided functions to answer questions.',\n",
       " 'last_error': None,\n",
       " 'metadata': {},\n",
       " 'model': 'gpt-3.5-turbo-1106',\n",
       " 'object': 'thread.run',\n",
       " 'required_action': None,\n",
       " 'started_at': None,\n",
       " 'status': 'queued',\n",
       " 'thread_id': 'thread_6olYje20MuELYMhg1CtoaSrQ',\n",
       " 'tools': [ToolAssistantToolsFunction(function=FunctionDefinition(name='getCurrentWeather', description='Get the weather in location.', parameters={'type': 'object', 'properties': {'location': {'type': 'string', 'description': 'The city and state e.g. Berlin, Germany'}, 'unit': {'type': 'string', 'enum': ['c', 'f']}}, 'required': ['location']}), type='function'),\n",
       "  ToolAssistantToolsFunction(function=FunctionDefinition(name='getNickname', description='Get the nickname of a city.', parameters={'type': 'object', 'properties': {'location': {'type': 'string', 'description': 'The city and state e.g. Berlin, Germany'}}, 'required': ['location']}), type='function')],\n",
       " 'usage': None}"
      ]
     },
     "execution_count": 103,
     "metadata": {},
     "output_type": "execute_result"
    }
   ],
   "source": [
    "dict(run)"
   ]
  },
  {
   "cell_type": "code",
   "execution_count": 104,
   "metadata": {},
   "outputs": [
    {
     "data": {
      "text/plain": [
       "{'id': 'run_OwzqoC2PJkxG6JBIH9fTdbmE',\n",
       " 'assistant_id': 'asst_hJjpZPMRgyPfH3oYJPNwwnsz',\n",
       " 'cancelled_at': None,\n",
       " 'completed_at': None,\n",
       " 'created_at': 1707583456,\n",
       " 'expires_at': 1707584056,\n",
       " 'failed_at': None,\n",
       " 'file_ids': [],\n",
       " 'instructions': 'You are a weather bot. Use the provided functions to answer questions.',\n",
       " 'last_error': None,\n",
       " 'metadata': {},\n",
       " 'model': 'gpt-3.5-turbo-1106',\n",
       " 'object': 'thread.run',\n",
       " 'required_action': RequiredAction(submit_tool_outputs=RequiredActionSubmitToolOutputs(tool_calls=[RequiredActionFunctionToolCall(id='call_xCvZAIcGP5slKochmrsbJHsE', function=Function(arguments='{\"location\":\"Japan\",\"unit\":\"c\"}', name='getCurrentWeather'), type='function')]), type='submit_tool_outputs'),\n",
       " 'started_at': 1707583456,\n",
       " 'status': 'requires_action',\n",
       " 'thread_id': 'thread_6olYje20MuELYMhg1CtoaSrQ',\n",
       " 'tools': [ToolAssistantToolsFunction(function=FunctionDefinition(name='getCurrentWeather', description='Get the weather in location.', parameters={'type': 'object', 'properties': {'location': {'type': 'string', 'description': 'The city and state e.g. Berlin, Germany'}, 'unit': {'type': 'string', 'enum': ['c', 'f']}}, 'required': ['location']}), type='function'),\n",
       "  ToolAssistantToolsFunction(function=FunctionDefinition(name='getNickname', description='Get the nickname of a city.', parameters={'type': 'object', 'properties': {'location': {'type': 'string', 'description': 'The city and state e.g. Berlin, Germany'}}, 'required': ['location']}), type='function')],\n",
       " 'usage': None}"
      ]
     },
     "execution_count": 104,
     "metadata": {},
     "output_type": "execute_result"
    }
   ],
   "source": [
    "run = client.beta.threads.runs.retrieve(\n",
    "    thread_id=thread.id,\n",
    "    run_id=run.id,\n",
    ")\n",
    "dict(run)"
   ]
  },
  {
   "cell_type": "code",
   "execution_count": 105,
   "metadata": {},
   "outputs": [],
   "source": [
    "available_functions = {\n",
    "    \"getCurrentWeather\": getCurrentWeather,\n",
    "    \"getNickname\": getNickname\n",
    "}  "
   ]
  },
  {
   "cell_type": "code",
   "execution_count": 106,
   "metadata": {},
   "outputs": [
    {
     "data": {
      "text/plain": [
       "'thread_6olYje20MuELYMhg1CtoaSrQ'"
      ]
     },
     "execution_count": 106,
     "metadata": {},
     "output_type": "execute_result"
    }
   ],
   "source": [
    "thread.id"
   ]
  },
  {
   "cell_type": "code",
   "execution_count": 108,
   "metadata": {},
   "outputs": [
    {
     "name": "stdout",
     "output_type": "stream",
     "text": [
      "completed .....\n",
      "completed...........logic\n",
      "Assistant: The current weather in Japan is 10°C.\n",
      "\n",
      "User: How is the current weather in japan?\n",
      "\n"
     ]
    }
   ],
   "source": [
    "import time\n",
    "from openai.pagination import SyncCursorPage\n",
    "while True:\n",
    "  runStatus = client.beta.threads.runs.retrieve(thread_id=thread.id,\n",
    "                                                run_id=run.id)\n",
    "  # Add run steps retrieval here for debuging\n",
    "  run_steps = client.beta.threads.runs.steps.list(thread_id=thread.id, run_id=run.id)\n",
    "  # show_json(\"Run Steps:\", run_steps)\n",
    "  print(runStatus.status ,'.....')\n",
    "\n",
    "  # This means run is making a function call   \n",
    "  if runStatus.status == \"requires_action\":\n",
    "    print(runStatus.status ,'.....')\n",
    "    print(\"Status: \", \"requires_action\")\n",
    "    show_json(\"submit_tool_outputs\", runStatus.required_action)\n",
    "    if runStatus.required_action.submit_tool_outputs and runStatus.required_action.submit_tool_outputs.tool_calls:\n",
    "      print(\"toolCalls present:\")\n",
    "      toolCalls = runStatus.required_action.submit_tool_outputs.tool_calls\n",
    "\n",
    "      tool_outputs = []\n",
    "      for toolcall in toolCalls:\n",
    "        function_name = toolcall.function.name\n",
    "        function_args = json.loads(toolcall.function.arguments)\n",
    "        \n",
    "        if function_name in available_functions:\n",
    "          function_to_call = available_functions[function_name]\n",
    "          print(function_to_call,function_to_call.__name__==\"getCurrentWeather\",\"================================================================\")\n",
    "        \n",
    "          if function_to_call.__name__ == \"getCurrentWeather\":\n",
    "            response = function_to_call(\n",
    "            location=function_args.get(\"location\"),\n",
    "            unit=function_args.get(\"unit\")\n",
    "            )\n",
    "            \n",
    "            tool_outputs.append({\n",
    "                    \"tool_call_id\": toolcall.id,\n",
    "                    \"output\": response\n",
    "                  })\n",
    "          \n",
    "          elif function_to_call.__name__ == \"getNickname\":\n",
    "            response = function_to_call(\n",
    "            location=function_args.get(\"location\")\n",
    "            )\n",
    "            tool_outputs.append({\n",
    "              \"tool_call_id\": toolcall.id,\n",
    "              \"output\": response,\n",
    "                  })\n",
    "        print(tool_outputs,\">>>>>\") \n",
    "        # Submit tool outputs and update the run\n",
    "        client.beta.threads.runs.submit_tool_outputs(\n",
    "          thread_id=thread.id,\n",
    "          run_id=run.id,\n",
    "          tool_outputs=tool_outputs\n",
    "        )\n",
    "    \n",
    "  elif runStatus.status == \"completed\":\n",
    "    # List the messages to get the response\n",
    "    print(\"completed...........logic\")\n",
    "    messages: SyncCursorPage = client.beta.threads.messages.list(thread_id=thread.id)\n",
    "    for message in messages.data:\n",
    "      role_label = \"User\" if message.role == \"user\" else \"Assistant\"\n",
    "      message_content = message.content[0].text.value\n",
    "      print(f\"{role_label}: {message_content}\\n\")\n",
    "    break  # Exit the loop after processing the completed run\n",
    "\n",
    "  elif run.status == \"failed\":\n",
    "    print(\"Run failed.\")\n",
    "    break\n",
    "\n",
    "  elif run.status in [\"in_progress\", \"queued\"]:\n",
    "    print(f\"Run is {run.status}. Waiting...\")\n",
    "    time.sleep(5)  # Wait for 5 seconds before checking again\n",
    "\n",
    "  else:\n",
    "    print(f\"Unexpected status: {run.status}\")\n",
    "    break"
   ]
  }
 ],
 "metadata": {
  "kernelspec": {
   "display_name": "myopenai",
   "language": "python",
   "name": "python3"
  },
  "language_info": {
   "codemirror_mode": {
    "name": "ipython",
    "version": 3
   },
   "file_extension": ".py",
   "mimetype": "text/x-python",
   "name": "python",
   "nbconvert_exporter": "python",
   "pygments_lexer": "ipython3",
   "version": "3.11.7"
  }
 },
 "nbformat": 4,
 "nbformat_minor": 2
}
