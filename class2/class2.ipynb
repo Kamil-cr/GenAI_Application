{
 "cells": [
  {
   "cell_type": "code",
   "execution_count": 2,
   "metadata": {},
   "outputs": [],
   "source": [
    "from openai import OpenAI\n",
    "from dotenv import load_dotenv, find_dotenv\n",
    "\n",
    "_: bool = load_dotenv(find_dotenv(\"D:\\GenAI_Application\\class1\\.env\"))\n",
    "\n",
    "client : OpenAI = OpenAI()"
   ]
  },
  {
   "cell_type": "code",
   "execution_count": 3,
   "metadata": {},
   "outputs": [
    {
     "name": "stdout",
     "output_type": "stream",
     "text": [
      "{\n",
      "  \"months_with_30_days\": [\n",
      "    \"April\",\n",
      "    \"June\",\n",
      "    \"September\",\n",
      "    \"November\"\n",
      "  ]\n",
      "}\n"
     ]
    }
   ],
   "source": [
    "response = client.chat.completions.create(\n",
    "    model=\"gpt-3.5-turbo-1106\",\n",
    "    response_format={\"type\": \"json_object\"},\n",
    "    messages=[\n",
    "        {\n",
    "        \"role\": \"system\",\n",
    "        \"content\": \"You are a helpful assistant designed to give output in JSON format.\"\n",
    "        },\n",
    "        {\n",
    "        \"role\": \"user\",\n",
    "        \"content\": \"What are the months in which there are 30 days?\"\n",
    "        },\n",
    "    ]\n",
    ")\n",
    "\n",
    "print(response.choices[0].message.content)"
   ]
  },
  {
   "cell_type": "code",
   "execution_count": 5,
   "metadata": {},
   "outputs": [
    {
     "name": "stdout",
     "output_type": "stream",
     "text": [
      "['April', 'June', 'September', 'November']\n",
      "April\n",
      "June\n",
      "September\n",
      "November\n"
     ]
    }
   ],
   "source": [
    "import json\n",
    "from typing import Dict, List\n",
    "\n",
    "obj: Dict[str, List[str]] = json.loads(response.choices[0].message.content)\n",
    "\n",
    "print(obj[\"months_with_30_days\"])\n",
    "\n",
    "for month in obj[\"months_with_30_days\"]:\n",
    "    print(month)"
   ]
  },
  {
   "cell_type": "code",
   "execution_count": 12,
   "metadata": {},
   "outputs": [
    {
     "name": "stdout",
     "output_type": "stream",
     "text": [
      "The best way to call OpenAI functions in Python is by using the OpenAI Python client library, which provides a convenient way to access OpenAI's powerful API. This library abstracts away the HTTP requests and authentication process, allowing you to focus on using OpenAI's functions directly in your Python code.\n",
      "\n",
      "To get started, you'll need to install the OpenAI Python client library using pip:\n",
      "\n",
      "```bash\n",
      "pip install openai\n",
      "```\n",
      "\n",
      "Once installed, you can call OpenAI functions by creating an instance of the `openai.OpenAIAPI` class and using its methods to access the various API endpoints. You'll also need to set your API key as an environment variable to authenticate your requests, like so:\n",
      "\n",
      "```python\n",
      "import openai\n",
      "\n",
      "# Set your API key\n",
      "api_key = 'YOUR_API_KEY'\n",
      "openai.api_key = api_key\n",
      "\n",
      "# Call OpenAI functions\n",
      "response = openai.Completion.create(model=\"text-davinci-003\", prompt=\"Once upon a time\", max_tokens=50)\n",
      "print(response.choices[0].text)\n",
      "```\n",
      "\n",
      "In this example, we're using the `openai.Completion.create` method to generate text based on a prompt using OpenAI's Davinci model. You can explore other functions provided by OpenAI, such as `openai.Classification.create`, `openai.Search.create`, and more, based on your specific requirements.\n",
      "\n",
      "Remember to handle any exceptions and error cases when calling OpenAI functions, and always respect OpenAI's usage policies and terms of service.\n"
     ]
    }
   ],
   "source": [
    "response = client.chat.completions.create(\n",
    "    model=\"gpt-3.5-turbo-1106\",\n",
    "    messages=[\n",
    "        {\n",
    "        \"role\": \"system\",\n",
    "        \"content\": \"You are a helpful assistant have too much knowledge about OpenAI Functions Calling in Python.\"\n",
    "        },\n",
    "        {\n",
    "        \"role\": \"user\",\n",
    "        \"content\": \"What is the best way to call OpenAI functions in Python?\"\n",
    "        },\n",
    "    ],\n",
    "    max_tokens=100\n",
    ")\n",
    "print(response.choices[0].message.content)"
   ]
  }
 ],
 "metadata": {
  "kernelspec": {
   "display_name": "myopenai",
   "language": "python",
   "name": "python3"
  },
  "language_info": {
   "codemirror_mode": {
    "name": "ipython",
    "version": 3
   },
   "file_extension": ".py",
   "mimetype": "text/x-python",
   "name": "python",
   "nbconvert_exporter": "python",
   "pygments_lexer": "ipython3",
   "version": "3.11.7"
  }
 },
 "nbformat": 4,
 "nbformat_minor": 2
}
